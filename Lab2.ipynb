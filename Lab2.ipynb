{
 "cells": [
  {
   "cell_type": "code",
   "execution_count": 1,
   "metadata": {
    "collapsed": false
   },
   "outputs": [
    {
     "name": "stdout",
     "output_type": "stream",
     "text": [
      "hello\n"
     ]
    }
   ],
   "source": [
    "import math\n",
    "import networkx as nx\n",
    "def distance(x,y):\n",
    "    a = 0\n",
    "    for i in xrange(len(x)):\n",
    "        a += math.pow((x[i] - y[i]), 2)\n",
    "    return math.sqrt(a)\n",
    "f = open('/home/denis/Desktop/newfile.vtk', 'rt')\n",
    "a = []\n",
    "while True:\n",
    "    a = f.readline().split()\n",
    "    if a[0] == 'POINTS':\n",
    "        break\n",
    "point_set = []\n",
    "\n",
    "#map - переводит массив string в массив с заданным типом\n",
    "for i in xrange(int(a[1])):\n",
    "    point_set.append(map(float,f.readline().split()))\n",
    "graph = nx.Graph()    \n",
    "digraph = nx.DiGraph()\n",
    "for i in xrange(int(f.readline().split()[1])):\n",
    "    p = map(int, f.readline().split())\n",
    "    graph.add_node(p[1])\n",
    "    graph.add_node(p[2])\n",
    "    digraph.add_node(p[1])\n",
    "    digraph.add_node(p[2])\n",
    "    graph.add_edge(p[1], p[2], weight=distance(point_set[p[1]], point_set[p[2]]))\n",
    "    digraph.add_edge(p[1],p[2], capacity=distance(point_set[p[1]], point_set[p[2]]))\n",
    "    digraph.add_edge(p[2],p[1], capacity=distance(point_set[p[1]], point_set[p[2]]))\n",
    "print 'hello'\n",
    "f.close()"
   ]
  },
  {
   "cell_type": "code",
   "execution_count": 2,
   "metadata": {
    "collapsed": false
   },
   "outputs": [
    {
     "name": "stdout",
     "output_type": "stream",
     "text": [
      "[-1.934134e-07, 1035.7, -3.509751e-07] [14819.376, 1409.8, 15892.272]\n",
      "[7409.688000096707, 1036, -3.509751e-07] [7409.688000096707, 1036, 15892.272]\n"
     ]
    }
   ],
   "source": [
    "min = [10000,10000,10000]\n",
    "max = [0,0,0]\n",
    "for point in point_set:\n",
    "    for i in xrange(3):\n",
    "        if point[i] < min[i]:\n",
    "            min[i] = point[i]\n",
    "        if point[i] > max[i]:\n",
    "            max[i] = point[i]\n",
    "print min, max\n",
    "\n",
    "#Находим предположительно нужные нам начальную и конечную точки,\n",
    "#но они не точные, их нет в графе\n",
    "pre_src = [(max[0] - min[0])/2.0, 1036, min[2]]\n",
    "pre_finish = [(max[0] - min[0])/2.0, 1036, max[2]]\n",
    "print pre_src, pre_finish"
   ]
  },
  {
   "cell_type": "code",
   "execution_count": 3,
   "metadata": {
    "collapsed": false
   },
   "outputs": [
    {
     "name": "stdout",
     "output_type": "stream",
     "text": [
      "[7409.688000096707, 1036, -3.509751e-07] [7409.688000096707, 1036, 15892.272]\n",
      "[7376.1602, 1325.1002, 0.0] [7443.2158, 1067.6, 15892.272] 26956 52308\n"
     ]
    }
   ],
   "source": [
    "src = [0,0,0]\n",
    "fin = [0,0,0]\n",
    "src_i = 0\n",
    "fin_i = 0\n",
    "\n",
    "#Находим подбором ближайшие к предполагаемым реальные точки графа\n",
    "print pre_src, pre_finish\n",
    "for i in xrange(len(point_set)):\n",
    "    if distance(point_set[i], pre_src) < 291.5:\n",
    "        src = point_set[i]\n",
    "        src_i = i\n",
    "    if distance(point_set[i], pre_finish) < 46.5:\n",
    "        fin = point_set[i]\n",
    "        fin_i = i\n",
    "print src, fin, src_i, fin_i"
   ]
  },
  {
   "cell_type": "code",
   "execution_count": 4,
   "metadata": {
    "collapsed": false
   },
   "outputs": [],
   "source": [
    "#Находим кратчайший путь\n",
    "path = nx.shortest_path(graph,src_i,fin_i)"
   ]
  },
  {
   "cell_type": "code",
   "execution_count": 5,
   "metadata": {
    "collapsed": false
   },
   "outputs": [],
   "source": [
    "outf = open('out.vtk', 'w+t')\n",
    "edges = [[0,0,0]]\n",
    "index = 0\n",
    "outf.write('{0}\\n{1}\\n{2}\\n'.format('# vtk DataFile Version 2.0', 'Calculation ground2','ASCII\\nDATASET POLYDATA'))\n",
    "outf.write('POINTS {0} float\\n'.format(len(point_set)))\n",
    "for i in point_set:\n",
    "    outf.write('{0} {1} {2}\\n'.format(i[0], i[1], i[2]))\n",
    "    \n",
    "#path - набор вершин, учавствующие в минимальном пути\n",
    "#edges - готовая для записи в втк строка (\"2 35633 54688\")\n",
    "#Записываем текущую вершину и предыдущую из этого же массива\n",
    "for i in path:\n",
    "    edges.append([2, i, edges[index][1]])\n",
    "    index+=1\n",
    "outf.write('LINES {0} {1}\\n'.format(len(edges) - 2, 3*(len(edges) - 2)))\n",
    "\n",
    "#Начинаем с 2, потому что в массиве два не нужных ребра с нулями в начале, нужными, чтобы избежать обращения\n",
    "#к несуществующим элементам\n",
    "for i in range(2,len(edges)):\n",
    "    outf.write('2 {0} {1}\\n'.format(edges[i][1], edges[i][2]))\n",
    "outf.close()\n"
   ]
  },
  {
   "cell_type": "code",
   "execution_count": 6,
   "metadata": {
    "collapsed": true
   },
   "outputs": [],
   "source": [
    "#Поток, flow_dict - потоки между каждой из точек попарно (словарь словарей)\n",
    "#Алгоритм по умолчанию - \"Проталкивания предпотока\"\n",
    "flow_value, flow_dict = nx.maximum_flow(digraph, src_i, fin_i)"
   ]
  },
  {
   "cell_type": "code",
   "execution_count": 17,
   "metadata": {
    "collapsed": false
   },
   "outputs": [],
   "source": []
  },
  {
   "cell_type": "code",
   "execution_count": 31,
   "metadata": {
    "collapsed": false
   },
   "outputs": [],
   "source": [
    "outf = open('flow.vtk', 'w+t')\n",
    "outf.write('{0}\\n{1}\\n{2}\\n'.format('# vtk DataFile Version 2.0', 'Calculation ground2','ASCII\\nDATASET POLYDATA'))\n",
    "outf.write('POINTS {0} float\\n'.format(len(point_set)))\n",
    "for i in point_set:\n",
    "    outf.write('{0} {1} {2}\\n'.format(i[0], i[1], i[2]))\n",
    "\n",
    "flow_p = []\n",
    "for i in flow_dict.keys():\n",
    "    for j in flow_dict[i].keys():\n",
    "        if flow_dict[i][j] != 0:\n",
    "            flow_p.append('2 {0} {1}\\n'.format(i, j))\n",
    "\n",
    "outf.write('LINES {0} {1}\\n'.format(len(flow_p), 3*len(flow_p)))\n",
    "for i in flow_p:\n",
    "    outf.write(i)\n",
    "outf.close()"
   ]
  }
 ],
 "metadata": {
  "kernelspec": {
   "display_name": "Python 2",
   "language": "python",
   "name": "python2"
  },
  "language_info": {
   "codemirror_mode": {
    "name": "ipython",
    "version": 2
   },
   "file_extension": ".py",
   "mimetype": "text/x-python",
   "name": "python",
   "nbconvert_exporter": "python",
   "pygments_lexer": "ipython2",
   "version": "2.7.6"
  }
 },
 "nbformat": 4,
 "nbformat_minor": 0
}
